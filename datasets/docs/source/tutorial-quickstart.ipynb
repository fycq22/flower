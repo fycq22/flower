{
  "cells": [
    {
      "cell_type": "markdown",
      "id": "79c178bc47ac1b2f",
      "metadata": {
        "id": "79c178bc47ac1b2f"
      },
      "source": [
        "# Quickstart\n",
        "\n",
        "Start with `Flower Datasets` as fast as possible by learning the essentials."
      ]
    },
    {
      "cell_type": "code",
      "source": [
        "!python --version"
      ],
      "metadata": {
        "colab": {
          "base_uri": "https://localhost:8080/"
        },
        "id": "lPy04VYA87q4",
        "outputId": "96cb2aca-d272-4f55-d122-ee4b85bb0a91"
      },
      "id": "lPy04VYA87q4",
      "execution_count": 2,
      "outputs": [
        {
          "output_type": "stream",
          "name": "stdout",
          "text": [
            "Python 3.12.11\n"
          ]
        }
      ]
    },
    {
      "cell_type": "markdown",
      "source": [
        "每次启动都要重新运行安装各种包，下面这行运行两遍才能成功"
      ],
      "metadata": {
        "id": "ItT6ZQ2Oi7w4"
      },
      "id": "ItT6ZQ2Oi7w4"
    },
    {
      "cell_type": "code",
      "source": [
        "!pip install -q flwr[simulation] flwr-datasets[vision] torch torchvision matplotlib"
      ],
      "metadata": {
        "id": "MAmQBDjki2sy"
      },
      "id": "MAmQBDjki2sy",
      "execution_count": 6,
      "outputs": []
    },
    {
      "cell_type": "code",
      "source": [
        "from collections import OrderedDict\n",
        "from typing import List, Tuple\n",
        "\n",
        "import matplotlib.pyplot as plt\n",
        "import numpy as np\n",
        "import torch\n",
        "import torch.nn as nn\n",
        "import torch.nn.functional as F\n",
        "import torchvision.transforms as transforms\n",
        "from datasets.utils.logging import disable_progress_bar\n",
        "from torch.utils.data import DataLoader\n",
        "\n",
        "import flwr\n",
        "from flwr.client import Client, ClientApp, NumPyClient\n",
        "from flwr.common import Metrics, Context\n",
        "from flwr.server import ServerApp, ServerConfig, ServerAppComponents\n",
        "from flwr.server.strategy import FedAvg\n",
        "from flwr.simulation import run_simulation\n",
        "from flwr_datasets import FederatedDataset\n",
        "\n",
        "DEVICE = \"cuda\" if torch.cuda.is_available() else \"cpu\"\n",
        "print(f\"Training on {DEVICE}\")\n",
        "print(f\"Flower {flwr.__version__} / PyTorch {torch.__version__}\")\n",
        "disable_progress_bar()"
      ],
      "metadata": {
        "colab": {
          "base_uri": "https://localhost:8080/"
        },
        "id": "CdcxABVi9Wwb",
        "outputId": "385bdc8c-d3b5-4ad0-a751-90ba0d24610e"
      },
      "id": "CdcxABVi9Wwb",
      "execution_count": 7,
      "outputs": [
        {
          "output_type": "stream",
          "name": "stdout",
          "text": [
            "Training on cpu\n",
            "Flower 1.20.0 / PyTorch 2.8.0+cu126\n"
          ]
        },
        {
          "output_type": "stream",
          "name": "stderr",
          "text": [
            "/usr/local/lib/python3.12/dist-packages/jupyter_client/session.py:203: DeprecationWarning: datetime.datetime.utcnow() is deprecated and scheduled for removal in a future version. Use timezone-aware objects to represent datetimes in UTC: datetime.datetime.now(datetime.UTC).\n",
            "  return datetime.utcnow().replace(tzinfo=utc)\n"
          ]
        }
      ]
    },
    {
      "cell_type": "markdown",
      "id": "e0f34a29f74b13cb",
      "metadata": {
        "id": "e0f34a29f74b13cb"
      },
      "source": [
        "## Install Flower Datasets"
      ]
    },
    {
      "cell_type": "code",
      "execution_count": 8,
      "id": "initial_id",
      "metadata": {
        "id": "initial_id"
      },
      "outputs": [],
      "source": [
        "! pip install -q \"flwr-datasets[vision]\""
      ]
    },
    {
      "cell_type": "markdown",
      "id": "f19a191a",
      "metadata": {
        "id": "f19a191a"
      },
      "source": [
        "If you want to use audio datasets install:\n",
        "\n",
        "```bash\n",
        "! pip install -q \"flwr-datasets[audio]\"\n",
        "```"
      ]
    },
    {
      "cell_type": "markdown",
      "source": [
        "flag1-25-9-4"
      ],
      "metadata": {
        "id": "SRzUnx5QhdVE"
      },
      "id": "SRzUnx5QhdVE"
    },
    {
      "cell_type": "markdown",
      "id": "499dd2f0d23d871e",
      "metadata": {
        "id": "499dd2f0d23d871e"
      },
      "source": [
        "## Choose the dataset\n",
        "\n",
        "To choose the dataset, go to Hugging Face [Datasets Hub](https://huggingface.co/datasets) and search for your dataset by name. You will pass that names to the `dataset` parameter of `FederatedDataset`. Note that the name is case-sensitive.\n",
        "\n",
        "<div style=\"max-width:80%; margin-left: auto; margin-right: auto;\">\n",
        "  <img src=\"https://github.com/fycq22/flower/blob/main/datasets/docs/source/_static/tutorial-quickstart/choose-hf-dataset.png?raw=1\" alt=\"Choose HF dataset.\"/>\n",
        "</div>"
      ]
    },
    {
      "cell_type": "markdown",
      "id": "a9d449e6",
      "metadata": {
        "id": "a9d449e6"
      },
      "source": [
        "Note that once the dataset is available on HuggingFace Hub it can be immediately used in `Flower Datasets` (no approval from Flower team is needed, no custom code needed).\n",
        "\n",
        "Here is how it looks for `CIFAR10` dataset."
      ]
    },
    {
      "cell_type": "markdown",
      "id": "b7d66b23efb1a289",
      "metadata": {
        "id": "b7d66b23efb1a289"
      },
      "source": [
        "<div style=\"max-width:80%; margin-left: auto; margin-right: auto;\">\n",
        "  <img src=\"https://github.com/fycq22/flower/blob/main/datasets/docs/source/_static/tutorial-quickstart/copy-dataset-name.png?raw=1\" alt=\"Choose HF dataset.\"/>\n",
        "</div>"
      ]
    },
    {
      "cell_type": "markdown",
      "id": "e0c146753048fb2a",
      "metadata": {
        "id": "e0c146753048fb2a"
      },
      "source": [
        "## Partition the dataset\n",
        "\n",
        "To partition a dataset (in a basic scenario), you need to choose two things:\n",
        "1) A dataset (identified by a name),\n",
        "2) A partitioning scheme (by selecting one of the supported partitioning schemes, [see all of them here](https://flower.ai/docs/datasets/ref-api/flwr_datasets.partitioner.html), or creating a custom partitioning scheme).\n",
        "\n",
        "\n",
        "\n",
        "**1) Dataset choice**\n",
        "\n",
        "We will pass the name of the dataset to `FederatedDataset(dataset=\"some-name\", other-parameters)`. In this example it will be: `FederatedDataset(dataset=\"uoft-cs/cifar10\", other-parameters)`\n",
        "\n",
        "**2) Partitioner choice**\n",
        "\n",
        "We will partition the dataset in an IID manner using `IidPartitioner` ([link to the docs](https://flower.ai/docs/datasets/ref-api/flwr_datasets.partitioner.IidPartitioner.html#flwr_datasets.partitioner.IidPartitioner)).\n",
        "Only the train split of the dataset will be processed. In general, we do `FederatedDataset(dataset=\"some-name\", partitioners={\"split-name\": partitioning_scheme})`, which for this example looks like:"
      ]
    },
    {
      "cell_type": "markdown",
      "source": [
        "由于我们只有一个csv文件，因此需要自己划分测试集和训练集。此外我们还需要把Label从value修改为Classlabel。"
      ],
      "metadata": {
        "id": "rqxb3ZOdkhyB"
      },
      "id": "rqxb3ZOdkhyB"
    },
    {
      "cell_type": "code",
      "execution_count": 12,
      "id": "a759c5b6f25c9dd4",
      "metadata": {
        "colab": {
          "base_uri": "https://localhost:8080/"
        },
        "id": "a759c5b6f25c9dd4",
        "outputId": "d3d06910-610d-4834-ddeb-03499abe762a"
      },
      "outputs": [
        {
          "output_type": "stream",
          "name": "stderr",
          "text": [
            "/usr/local/lib/python3.12/dist-packages/flwr_datasets/utils.py:109: UserWarning: The currently tested dataset are ['mnist', 'ylecun/mnist', 'cifar10', 'uoft-cs/cifar10', 'fashion_mnist', 'zalando-datasets/fashion_mnist', 'sasha/dog-food', 'zh-plus/tiny-imagenet', 'scikit-learn/adult-census-income', 'cifar100', 'uoft-cs/cifar100', 'svhn', 'ufldl-stanford/svhn', 'sentiment140', 'stanfordnlp/sentiment140', 'speech_commands', 'LIUM/tedlium', 'flwrlabs/femnist', 'flwrlabs/ucf101', 'flwrlabs/ambient-acoustic-context', 'jlh/uci-mushrooms', 'Mike0307/MNIST-M', 'flwrlabs/usps', 'scikit-learn/iris', 'flwrlabs/pacs', 'flwrlabs/cinic10', 'flwrlabs/caltech101', 'flwrlabs/office-home', 'flwrlabs/fed-isic2019']. Given: fycq22/CICIDS-171819.\n",
            "  warnings.warn(\n"
          ]
        },
        {
          "output_type": "stream",
          "name": "stdout",
          "text": [
            "转换前标签类型: Value('string')\n"
          ]
        },
        {
          "output_type": "stream",
          "name": "stderr",
          "text": [
            "/usr/local/lib/python3.12/dist-packages/jupyter_client/session.py:203: DeprecationWarning: datetime.datetime.utcnow() is deprecated and scheduled for removal in a future version. Use timezone-aware objects to represent datetimes in UTC: datetime.datetime.now(datetime.UTC).\n",
            "  return datetime.utcnow().replace(tzinfo=utc)\n"
          ]
        },
        {
          "output_type": "stream",
          "name": "stdout",
          "text": [
            "转换后标签类型: ClassLabel(names=['BENIGN', 'Benign', 'DDOS attack-HOIC', 'DDOS attack-LOIC-UDP', 'DDoS', 'PortScan', 'Portmap'])\n",
            "Partition size (client 0 train): 175249\n",
            "Centralized test size: 350497\n"
          ]
        },
        {
          "output_type": "stream",
          "name": "stderr",
          "text": [
            "/usr/local/lib/python3.12/dist-packages/jupyter_client/session.py:203: DeprecationWarning: datetime.datetime.utcnow() is deprecated and scheduled for removal in a future version. Use timezone-aware objects to represent datetimes in UTC: datetime.datetime.now(datetime.UTC).\n",
            "  return datetime.utcnow().replace(tzinfo=utc)\n"
          ]
        },
        {
          "output_type": "stream",
          "name": "stdout",
          "text": [
            "训练集标签分布: (array([0, 1, 2, 3, 4, 5, 6]), array([183991, 288666, 548809,   1384, 102422, 127144, 149568]))\n",
            "测试集标签分布: (array([0, 1, 2, 3, 4, 5, 6]), array([ 45998,  72167, 137203,    346,  25605,  31786,  37392]))\n"
          ]
        }
      ],
      "source": [
        "from flwr_datasets import FederatedDataset\n",
        "from flwr_datasets.partitioner import IidPartitioner\n",
        "from datasets import ClassLabel\n",
        "import numpy as np\n",
        "\n",
        "# 创建 FederatedDataset，只对 train 做分区\n",
        "fds = FederatedDataset(\n",
        "    dataset=\"fycq22/CICIDS-171819\",\n",
        "    partitioners={\"train\": IidPartitioner(num_partitions=10)},\n",
        ")\n",
        "\n",
        "# 加载完整的 train split（未分区）\n",
        "full_train = fds.load_split(\"train\")\n",
        "\n",
        "# 转换标签列为ClassLabel类型\n",
        "print(\"转换前标签类型:\", full_train.features[\"Label\"])\n",
        "\n",
        "# 获取所有唯一标签\n",
        "unique_labels = sorted(set(full_train[\"Label\"]))\n",
        "class_label = ClassLabel(names=unique_labels)\n",
        "\n",
        "# 应用转换\n",
        "full_train = full_train.cast_column(\"Label\", class_label)\n",
        "print(\"转换后标签类型:\", full_train.features[\"Label\"])\n",
        "\n",
        "# 从 train split 中划分出唯一的 centralized test\n",
        "dataset = full_train.train_test_split(test_size=0.2, seed=42, stratify_by_column=\"Label\")\n",
        "centralized_test = dataset[\"test\"]\n",
        "\n",
        "# 加载第一个 partition (client 0 的训练集)\n",
        "partition = fds.load_partition(0, \"train\")\n",
        "\n",
        "print(f\"Partition size (client 0 train): {len(partition)}\")\n",
        "print(f\"Centralized test size: {len(centralized_test)}\")\n",
        "\n",
        "# 验证标签分布\n",
        "train_labels = dataset[\"train\"][\"Label\"]\n",
        "test_labels = centralized_test[\"Label\"]\n",
        "\n",
        "print(f\"训练集标签分布: {np.unique(train_labels, return_counts=True)}\")\n",
        "print(f\"测试集标签分布: {np.unique(test_labels, return_counts=True)}\")"
      ]
    },
    {
      "cell_type": "markdown",
      "id": "de75d15c3f5b2383",
      "metadata": {
        "id": "de75d15c3f5b2383"
      },
      "source": [
        "Now we have 10 partitions created from the train split of the CIFAR10 dataset and the test split\n",
        "for the centralized evaluation. Later we will convert the type of the dataset from Hugging Face's `Dataset` type to the format required by PyTorch/TensorFlow frameworks."
      ]
    },
    {
      "cell_type": "markdown",
      "id": "efa7dbb120505f1f",
      "metadata": {
        "id": "efa7dbb120505f1f"
      },
      "source": [
        "## Investigate the partition"
      ]
    },
    {
      "cell_type": "markdown",
      "id": "bf986a1a9f0284cd",
      "metadata": {
        "id": "bf986a1a9f0284cd"
      },
      "source": [
        "### Features\n",
        "\n",
        "Now we will determine the names of the features of your dataset (you can alternatively do that directly on the Hugging Face\n",
        "website). The names can vary along different datasets e.g. \"img\" or \"image\", \"label\" or \"labels\". Additionally, if the label column is of [ClassLabel](https://huggingface.co/docs/datasets/main/en/package_reference/main_classes#datasets.ClassLabel) type, we will also see the names of labels."
      ]
    },
    {
      "cell_type": "code",
      "execution_count": 13,
      "id": "f7ff7cecdda8a931",
      "metadata": {
        "colab": {
          "base_uri": "https://localhost:8080/"
        },
        "id": "f7ff7cecdda8a931",
        "outputId": "8fc45006-0f9f-4182-b72a-ca7d361de62e"
      },
      "outputs": [
        {
          "output_type": "execute_result",
          "data": {
            "text/plain": [
              "{'Destination Port': Value('int64'),\n",
              " 'Protocol': Value('int64'),\n",
              " 'Total Fwd Packets': Value('int64'),\n",
              " 'Total Backward Packets': Value('int64'),\n",
              " 'Fwd Packet Length Max': Value('float64'),\n",
              " 'Label': Value('string'),\n",
              " 'Source IP': Value('string'),\n",
              " 'Flow ID': Value('string'),\n",
              " 'Source Port': Value('int64'),\n",
              " 'Destination IP': Value('string')}"
            ]
          },
          "metadata": {},
          "execution_count": 13
        }
      ],
      "source": [
        "# Note this dataset has\n",
        "partition.features"
      ]
    },
    {
      "cell_type": "markdown",
      "id": "2e69ed05193a098a",
      "metadata": {
        "id": "2e69ed05193a098a"
      },
      "source": [
        "### Indexing\n",
        "\n",
        "To see the first sample of the partition, we can index it like a Python list."
      ]
    },
    {
      "cell_type": "code",
      "execution_count": 14,
      "id": "2f2097d4c5121a1b",
      "metadata": {
        "colab": {
          "base_uri": "https://localhost:8080/"
        },
        "id": "2f2097d4c5121a1b",
        "outputId": "76de66b3-fc16-41e4-e6f5-80f96dbfde4d"
      },
      "outputs": [
        {
          "output_type": "execute_result",
          "data": {
            "text/plain": [
              "{'Destination Port': 50721,\n",
              " 'Protocol': 6,\n",
              " 'Total Fwd Packets': 5,\n",
              " 'Total Backward Packets': 2,\n",
              " 'Fwd Packet Length Max': 935.0,\n",
              " 'Label': 'Benign',\n",
              " 'Source IP': None,\n",
              " 'Flow ID': None,\n",
              " 'Source Port': 0,\n",
              " 'Destination IP': None}"
            ]
          },
          "metadata": {},
          "execution_count": 14
        }
      ],
      "source": [
        "partition[0]"
      ]
    },
    {
      "cell_type": "markdown",
      "id": "a10ad2b97c4dd92a",
      "metadata": {
        "id": "a10ad2b97c4dd92a"
      },
      "source": [
        "Then we can additionally choose the specific column."
      ]
    },
    {
      "cell_type": "code",
      "execution_count": 16,
      "id": "aa7f0e2e29841f54",
      "metadata": {
        "colab": {
          "base_uri": "https://localhost:8080/",
          "height": 35
        },
        "id": "aa7f0e2e29841f54",
        "outputId": "31dd9599-97f3-4447-8e05-9b0fbe6b47c2"
      },
      "outputs": [
        {
          "output_type": "execute_result",
          "data": {
            "text/plain": [
              "'Benign'"
            ],
            "application/vnd.google.colaboratory.intrinsic+json": {
              "type": "string"
            }
          },
          "metadata": {},
          "execution_count": 16
        }
      ],
      "source": [
        "partition[0][\"Label\"]"
      ]
    },
    {
      "cell_type": "markdown",
      "id": "3fe1cef9a121dbc5",
      "metadata": {
        "id": "3fe1cef9a121dbc5"
      },
      "source": [
        "We can also use slicing (take a few samples). Let's take the first 3 samples of the first partition:"
      ]
    },
    {
      "cell_type": "code",
      "execution_count": 17,
      "id": "779818b365682c60",
      "metadata": {
        "colab": {
          "base_uri": "https://localhost:8080/"
        },
        "id": "779818b365682c60",
        "outputId": "51f0e1d6-10f8-4071-b705-eda43a7b784f"
      },
      "outputs": [
        {
          "output_type": "execute_result",
          "data": {
            "text/plain": [
              "{'Destination Port': [50721, 80, 443],\n",
              " 'Protocol': [6, 6, 6],\n",
              " 'Total Fwd Packets': [5, 3, 1301],\n",
              " 'Total Backward Packets': [2, 4, 1649],\n",
              " 'Fwd Packet Length Max': [935.0, 323.0, 775.0],\n",
              " 'Label': ['Benign', 'DDOS attack-HOIC', 'BENIGN'],\n",
              " 'Source IP': [None, None, '192.168.10.9'],\n",
              " 'Flow ID': [None, None, '192.168.10.9-52.84.134.210-6642-443-6'],\n",
              " 'Source Port': [0, 0, 6642],\n",
              " 'Destination IP': [None, None, '52.84.134.210']}"
            ]
          },
          "metadata": {},
          "execution_count": 17
        }
      ],
      "source": [
        "partition[:3]"
      ]
    },
    {
      "cell_type": "markdown",
      "id": "a354aa36fc586438",
      "metadata": {
        "id": "a354aa36fc586438"
      },
      "source": [
        "We get a dictionary where the keys are the names of the columns and the values are list of the corresponding values of each row of the dataset. So to take the first 3 labels we can do:"
      ]
    },
    {
      "cell_type": "code",
      "execution_count": 18,
      "id": "25fca62a8f2fbe51",
      "metadata": {
        "colab": {
          "base_uri": "https://localhost:8080/"
        },
        "id": "25fca62a8f2fbe51",
        "outputId": "538d2628-3800-4d97-ee25-c3b766ac2966"
      },
      "outputs": [
        {
          "output_type": "execute_result",
          "data": {
            "text/plain": [
              "['Benign', 'DDOS attack-HOIC', 'BENIGN']"
            ]
          },
          "metadata": {},
          "execution_count": 18
        }
      ],
      "source": [
        "partition[:3][\"Label\"]"
      ]
    },
    {
      "cell_type": "markdown",
      "id": "4e4790671ffe2142",
      "metadata": {
        "id": "4e4790671ffe2142"
      },
      "source": [
        "Note that the indexing by column first is also possible but discouraged because the whole column will be loaded into the memory."
      ]
    },
    {
      "cell_type": "code",
      "execution_count": 19,
      "id": "7836fe6d65c673b2",
      "metadata": {
        "colab": {
          "base_uri": "https://localhost:8080/"
        },
        "id": "7836fe6d65c673b2",
        "outputId": "372b178f-a100-42c4-f0c8-1838d920c5c3"
      },
      "outputs": [
        {
          "output_type": "execute_result",
          "data": {
            "text/plain": [
              "['Benign', 'DDOS attack-HOIC', 'BENIGN']"
            ]
          },
          "metadata": {},
          "execution_count": 19
        }
      ],
      "source": [
        "partition[\"Label\"][:3]"
      ]
    },
    {
      "cell_type": "markdown",
      "id": "c3c46099625437fc",
      "metadata": {
        "id": "c3c46099625437fc"
      },
      "source": [
        "You can also select a subset of the dataset and keep the same type (dataset.Dataset) instead of receiving a dictionary of values."
      ]
    },
    {
      "cell_type": "code",
      "execution_count": 20,
      "id": "708abab74de3d5a1",
      "metadata": {
        "colab": {
          "base_uri": "https://localhost:8080/"
        },
        "id": "708abab74de3d5a1",
        "outputId": "0c5b7ffb-e9e3-4133-ac3d-304286d4100b"
      },
      "outputs": [
        {
          "output_type": "execute_result",
          "data": {
            "text/plain": [
              "Dataset({\n",
              "    features: ['Destination Port', 'Protocol', 'Total Fwd Packets', 'Total Backward Packets', 'Fwd Packet Length Max', 'Label', 'Source IP', 'Flow ID', 'Source Port', 'Destination IP'],\n",
              "    num_rows: 3\n",
              "})"
            ]
          },
          "metadata": {},
          "execution_count": 20
        }
      ],
      "source": [
        "partition.select([0, 1, 2])"
      ]
    },
    {
      "cell_type": "markdown",
      "id": "462f707b4f078a8d",
      "metadata": {
        "id": "462f707b4f078a8d"
      },
      "source": [
        "And this dataset contains the same samples as we saw before."
      ]
    },
    {
      "cell_type": "code",
      "execution_count": 21,
      "id": "19d2e3cc74d93c4d",
      "metadata": {
        "colab": {
          "base_uri": "https://localhost:8080/"
        },
        "id": "19d2e3cc74d93c4d",
        "outputId": "20f74952-e443-4b87-bd52-17a31889b9f1"
      },
      "outputs": [
        {
          "output_type": "execute_result",
          "data": {
            "text/plain": [
              "{'Destination Port': [50721, 80, 443],\n",
              " 'Protocol': [6, 6, 6],\n",
              " 'Total Fwd Packets': [5, 3, 1301],\n",
              " 'Total Backward Packets': [2, 4, 1649],\n",
              " 'Fwd Packet Length Max': [935.0, 323.0, 775.0],\n",
              " 'Label': ['Benign', 'DDOS attack-HOIC', 'BENIGN'],\n",
              " 'Source IP': [None, None, '192.168.10.9'],\n",
              " 'Flow ID': [None, None, '192.168.10.9-52.84.134.210-6642-443-6'],\n",
              " 'Source Port': [0, 0, 6642],\n",
              " 'Destination IP': [None, None, '52.84.134.210']}"
            ]
          },
          "metadata": {},
          "execution_count": 21
        }
      ],
      "source": [
        "partition.select([0, 1, 2])[:]"
      ]
    },
    {
      "cell_type": "markdown",
      "source": [
        "数据集分割+label分布可视化。"
      ],
      "metadata": {
        "id": "OVV7OPYswmx6"
      },
      "id": "OVV7OPYswmx6"
    },
    {
      "cell_type": "code",
      "source": [
        "from flwr_datasets import FederatedDataset\n",
        "from flwr_datasets.partitioner import DirichletPartitioner\n",
        "from flwr_datasets.visualization import plot_label_distributions\n",
        "from datasets import ClassLabel\n",
        "import numpy as np\n",
        "import matplotlib.pyplot as plt\n",
        "\n",
        "# 创建 FederatedDataset，使用非IID分区（Dirichlet分布）\n",
        "fds = FederatedDataset(\n",
        "    dataset=\"fycq22/CICIDS-171819\",\n",
        "    partitioners={\n",
        "        \"train\": DirichletPartitioner(\n",
        "            num_partitions=10,  # 10个客户端\n",
        "            partition_by=\"Label\",  # 按标签分区\n",
        "            alpha=0.3,  # 控制非IID程度（值越小，差异越大）\n",
        "            seed=42,  # 随机种子\n",
        "            min_partition_size=0,  # 最小分区大小\n",
        "        )\n",
        "    },\n",
        ")\n",
        "\n",
        "# 加载完整的 train split（未分区）\n",
        "full_train = fds.load_split(\"train\")\n",
        "\n",
        "# 转换标签列为ClassLabel类型\n",
        "print(\"转换前标签类型:\", full_train.features[\"Label\"])\n",
        "\n",
        "# 获取所有唯一标签\n",
        "unique_labels = sorted(set(full_train[\"Label\"]))\n",
        "class_label = ClassLabel(names=unique_labels)\n",
        "\n",
        "# 应用转换\n",
        "full_train = full_train.cast_column(\"Label\", class_label)\n",
        "print(\"转换后标签类型:\", full_train.features[\"Label\"])\n",
        "\n",
        "# 获取标签特征对象\n",
        "label_feature = full_train.features[\"Label\"]\n",
        "\n",
        "# 从 train split 中划分出唯一的 centralized test\n",
        "dataset = full_train.train_test_split(test_size=0.2, seed=42, stratify_by_column=\"Label\")\n",
        "centralized_test = dataset[\"test\"]\n",
        "\n",
        "# 加载第一个 partition (client 0 的训练集)\n",
        "partition = fds.load_partition(0, \"train\")\n",
        "\n",
        "print(f\"Partition size (client 0 train): {len(partition)}\")\n",
        "print(f\"Centralized test size: {len(centralized_test)}\")\n",
        "\n",
        "# 验证标签分布（使用整数表示）\n",
        "# 确保标签是字符串：如果已经是整数，则转换为字符串\n",
        "def convert_to_str(x):\n",
        "    if isinstance(x, int):\n",
        "        return str(x)\n",
        "    return x\n",
        "\n",
        "# 将训练集和测试集的标签转换为字符串\n",
        "train_labels_str = [convert_to_str(label) for label in dataset[\"train\"][\"Label\"]]\n",
        "test_labels_str = [convert_to_str(label) for label in centralized_test[\"Label\"]]\n",
        "\n",
        "# 使用ClassLabel的str2int方法将字符串标签转换为整数\n",
        "train_labels = [label_feature.str2int(label) for label in train_labels_str]\n",
        "test_labels = [label_feature.str2int(label) for label in test_labels_str]\n",
        "\n",
        "print(f\"训练集标签分布: {np.unique(train_labels, return_counts=True)}\")\n",
        "print(f\"测试集标签分布: {np.unique(test_labels, return_counts=True)}\")\n",
        "\n",
        "# 获取分区器\n",
        "partitioner = fds.partitioners[\"train\"]\n",
        "\n",
        "# 可视化标签分布（非IID分区）\n",
        "fig, ax, df = plot_label_distributions(\n",
        "    partitioner,\n",
        "    label_name=\"Label\",  # 使用你的标签列名\n",
        "    plot_type=\"bar\",\n",
        "    size_unit=\"absolute\",\n",
        "    partition_id_axis=\"x\",\n",
        "    legend=True,\n",
        "    verbose_labels=True,\n",
        "    title=\"Per Partition Labels Distribution (Non-IID Partitioning)\"\n",
        ")\n",
        "\n",
        "# 自定义图表\n",
        "plt.figure(figsize=(15, 10))\n",
        "\n",
        "# 1. 整体标签分布\n",
        "plt.subplot(2, 2, 1)\n",
        "# 确保标签是字符串\n",
        "full_train_labels_str = [convert_to_str(label) for label in full_train[\"Label\"]]\n",
        "# 使用ClassLabel的str2int方法将字符串标签转换为整数\n",
        "label_indices = [label_feature.str2int(label) for label in full_train_labels_str]\n",
        "label_counts = np.bincount(label_indices)\n",
        "plt.bar(range(len(label_counts)), label_counts)\n",
        "plt.title(\"Overall Label Distribution\")\n",
        "plt.xlabel(\"Label\")\n",
        "plt.ylabel(\"Count\")\n",
        "plt.xticks(range(len(unique_labels)), unique_labels, rotation=45)\n",
        "\n",
        "# 2. 客户端0的标签分布\n",
        "plt.subplot(2, 2, 2)\n",
        "# 确保标签是字符串\n",
        "client0_labels_str = [convert_to_str(label) for label in partition[\"Label\"]]\n",
        "# 使用ClassLabel的str2int方法将字符串标签转换为整数\n",
        "client0_labels = [label_feature.str2int(label) for label in client0_labels_str]\n",
        "client0_counts = np.bincount(client0_labels)\n",
        "plt.bar(range(len(client0_counts)), client0_counts)\n",
        "plt.title(\"Client 0 Label Distribution\")\n",
        "plt.xlabel(\"Label\")\n",
        "plt.ylabel(\"Count\")\n",
        "plt.xticks(range(len(unique_labels)), unique_labels, rotation=45)\n",
        "\n",
        "# 3. 客户端1的标签分布（作为对比）\n",
        "plt.subplot(2, 2, 3)\n",
        "client1_partition = fds.load_partition(1, \"train\")\n",
        "# 确保标签是字符串\n",
        "client1_labels_str = [convert_to_str(label) for label in client1_partition[\"Label\"]]\n",
        "# 使用ClassLabel的str2int方法将字符串标签转换为整数\n",
        "client1_labels = [label_feature.str2int(label) for label in client1_labels_str]\n",
        "client1_counts = np.bincount(client1_labels)\n",
        "plt.bar(range(len(client1_counts)), client1_counts)\n",
        "plt.title(\"Client 1 Label Distribution\")\n",
        "plt.xlabel(\"Label\")\n",
        "plt.ylabel(\"Count\")\n",
        "plt.xticks(range(len(unique_labels)), unique_labels, rotation=45)\n",
        "\n",
        "# 4. 客户端2的标签分布（作为对比）\n",
        "plt.subplot(2, 2, 4)\n",
        "client2_partition = fds.load_partition(2, \"train\")\n",
        "# 确保标签是字符串\n",
        "client2_labels_str = [convert_to_str(label) for label in client2_partition[\"Label\"]]\n",
        "# 使用ClassLabel的str2int方法将字符串标签转换为整数\n",
        "client2_labels = [label_feature.str2int(label) for label in client2_labels_str]\n",
        "client2_counts = np.bincount(client2_labels)\n",
        "plt.bar(range(len(client2_counts)), client2_counts)\n",
        "plt.title(\"Client 2 Label Distribution\")\n",
        "plt.xlabel(\"Label\")\n",
        "plt.ylabel(\"Count\")\n",
        "plt.xticks(range(len(unique_labels)), unique_labels, rotation=45)\n",
        "\n",
        "plt.tight_layout()\n",
        "plt.show()\n",
        "\n",
        "# 额外：计算并显示非IID程度\n",
        "print(\"\\n非IID程度分析:\")\n",
        "for i in range(10):\n",
        "    client_data = fds.load_partition(i, \"train\")\n",
        "    # 确保标签是字符串\n",
        "    client_labels_str = [convert_to_str(label) for label in client_data[\"Label\"]]\n",
        "    # 使用ClassLabel的str2int方法将字符串标签转换为整数\n",
        "    client_labels = [label_feature.str2int(label) for label in client_labels_str]\n",
        "    client_counts = np.bincount(client_labels)\n",
        "    print(f\"客户端 {i}: {dict(zip(unique_labels, client_counts))}\")"
      ],
      "metadata": {
        "colab": {
          "base_uri": "https://localhost:8080/",
          "height": 1000
        },
        "id": "B0xl8xF-vQyG",
        "outputId": "1cb25c7e-1f97-4dbf-b2ea-1ad8c80ac710"
      },
      "id": "B0xl8xF-vQyG",
      "execution_count": 27,
      "outputs": [
        {
          "output_type": "stream",
          "name": "stderr",
          "text": [
            "/usr/local/lib/python3.12/dist-packages/flwr_datasets/utils.py:109: UserWarning: The currently tested dataset are ['mnist', 'ylecun/mnist', 'cifar10', 'uoft-cs/cifar10', 'fashion_mnist', 'zalando-datasets/fashion_mnist', 'sasha/dog-food', 'zh-plus/tiny-imagenet', 'scikit-learn/adult-census-income', 'cifar100', 'uoft-cs/cifar100', 'svhn', 'ufldl-stanford/svhn', 'sentiment140', 'stanfordnlp/sentiment140', 'speech_commands', 'LIUM/tedlium', 'flwrlabs/femnist', 'flwrlabs/ucf101', 'flwrlabs/ambient-acoustic-context', 'jlh/uci-mushrooms', 'Mike0307/MNIST-M', 'flwrlabs/usps', 'scikit-learn/iris', 'flwrlabs/pacs', 'flwrlabs/cinic10', 'flwrlabs/caltech101', 'flwrlabs/office-home', 'flwrlabs/fed-isic2019']. Given: fycq22/CICIDS-171819.\n",
            "  warnings.warn(\n"
          ]
        },
        {
          "output_type": "stream",
          "name": "stdout",
          "text": [
            "转换前标签类型: Value('string')\n"
          ]
        },
        {
          "output_type": "stream",
          "name": "stderr",
          "text": [
            "/usr/local/lib/python3.12/dist-packages/jupyter_client/session.py:203: DeprecationWarning: datetime.datetime.utcnow() is deprecated and scheduled for removal in a future version. Use timezone-aware objects to represent datetimes in UTC: datetime.datetime.now(datetime.UTC).\n",
            "  return datetime.utcnow().replace(tzinfo=utc)\n"
          ]
        },
        {
          "output_type": "stream",
          "name": "stdout",
          "text": [
            "转换后标签类型: ClassLabel(names=['BENIGN', 'Benign', 'DDOS attack-HOIC', 'DDOS attack-LOIC-UDP', 'DDoS', 'PortScan', 'Portmap'])\n",
            "Partition size (client 0 train): 165284\n",
            "Centralized test size: 350497\n"
          ]
        },
        {
          "output_type": "stream",
          "name": "stderr",
          "text": [
            "/usr/local/lib/python3.12/dist-packages/jupyter_client/session.py:203: DeprecationWarning: datetime.datetime.utcnow() is deprecated and scheduled for removal in a future version. Use timezone-aware objects to represent datetimes in UTC: datetime.datetime.now(datetime.UTC).\n",
            "  return datetime.utcnow().replace(tzinfo=utc)\n"
          ]
        },
        {
          "output_type": "stream",
          "name": "stdout",
          "text": [
            "训练集标签分布: (array([0, 1, 2, 3, 4, 5, 6]), array([183991, 288666, 548809,   1384, 102422, 127144, 149568]))\n",
            "测试集标签分布: (array([0, 1, 2, 3, 4, 5, 6]), array([ 45998,  72167, 137203,    346,  25605,  31786,  37392]))\n"
          ]
        },
        {
          "output_type": "stream",
          "name": "stderr",
          "text": [
            "/usr/local/lib/python3.12/dist-packages/jupyter_client/session.py:203: DeprecationWarning: datetime.datetime.utcnow() is deprecated and scheduled for removal in a future version. Use timezone-aware objects to represent datetimes in UTC: datetime.datetime.now(datetime.UTC).\n",
            "  return datetime.utcnow().replace(tzinfo=utc)\n",
            "/usr/local/lib/python3.12/dist-packages/flwr_datasets/metrics/utils.py:130: UserWarning: The verbose names can not be established. The column specified by 'column_name' needs to be of type 'ClassLabel' to create a verbose names. The available names will used.\n",
            "  warnings.warn(\n",
            "/usr/local/lib/python3.12/dist-packages/jupyter_client/session.py:203: DeprecationWarning: datetime.datetime.utcnow() is deprecated and scheduled for removal in a future version. Use timezone-aware objects to represent datetimes in UTC: datetime.datetime.now(datetime.UTC).\n",
            "  return datetime.utcnow().replace(tzinfo=utc)\n"
          ]
        },
        {
          "output_type": "display_data",
          "data": {
            "text/plain": [
              "<Figure size 640x480 with 1 Axes>"
            ],
            "image/png": "[encoded data removed]"
          },
          "metadata": {}
        },
        {
          "output_type": "stream",
          "name": "stderr",
          "text": [
            "/usr/local/lib/python3.12/dist-packages/jupyter_client/session.py:203: DeprecationWarning: datetime.datetime.utcnow() is deprecated and scheduled for removal in a future version. Use timezone-aware objects to represent datetimes in UTC: datetime.datetime.now(datetime.UTC).\n",
            "  return datetime.utcnow().replace(tzinfo=utc)\n"
          ]
        },
        {
          "output_type": "display_data",
          "data": {
            "text/plain": [
              "<Figure size 1500x1000 with 4 Axes>"
            ],
            "image/png": "[encoded data removed]"
          },
          "metadata": {}
        },
        {
          "output_type": "stream",
          "name": "stdout",
          "text": [
            "\n",
            "非IID程度分析:\n",
            "客户端 0: {'BENIGN': np.int64(37588), 'Benign': np.int64(57362), 'DDOS attack-HOIC': np.int64(3459), 'DDOS attack-LOIC-UDP': np.int64(149), 'DDoS': np.int64(37455), 'PortScan': np.int64(12211), 'Portmap': np.int64(17060)}\n",
            "客户端 1: {'BENIGN': np.int64(65134), 'Benign': np.int64(386), 'DDOS attack-HOIC': np.int64(72), 'DDOS attack-LOIC-UDP': np.int64(1), 'DDoS': np.int64(2485), 'PortScan': np.int64(1), 'Portmap': np.int64(127486)}\n",
            "客户端 2: {'BENIGN': np.int64(32), 'Benign': np.int64(318), 'DDOS attack-HOIC': np.int64(384), 'DDOS attack-LOIC-UDP': np.int64(157), 'DDoS': np.int64(274), 'PortScan': np.int64(501), 'Portmap': np.int64(19095)}\n",
            "客户端 3: {'BENIGN': np.int64(35012), 'Benign': np.int64(11464), 'DDOS attack-HOIC': np.int64(22838), 'DDOS attack-LOIC-UDP': np.int64(42), 'DDoS': np.int64(28153), 'PortScan': np.int64(62997), 'Portmap': np.int64(82)}\n",
            "客户端 4: {'BENIGN': np.int64(90), 'Benign': np.int64(3105), 'DDOS attack-HOIC': np.int64(329249), 'DDOS attack-LOIC-UDP': np.int64(7), 'DDoS': np.int64(18290), 'PortScan': np.int64(6), 'Portmap': np.int64(15893)}\n",
            "客户端 5: {'BENIGN': np.int64(3086), 'Benign': np.int64(5701), 'DDOS attack-HOIC': np.int64(65424), 'DDOS attack-LOIC-UDP': np.int64(882), 'DDoS': np.int64(4367), 'PortScan': np.int64(1426), 'Portmap': np.int64(994)}\n",
            "客户端 6: {'BENIGN': np.int64(19422), 'Benign': np.int64(136), 'DDOS attack-HOIC': np.int64(12647), 'DDOS attack-LOIC-UDP': np.int64(132), 'DDoS': np.int64(83), 'PortScan': np.int64(12054), 'Portmap': np.int64(3359)}\n",
            "客户端 7: {'BENIGN': np.int64(5602), 'Benign': np.int64(202888), 'DDOS attack-HOIC': np.int64(236877), 'DDOS attack-LOIC-UDP': np.int64(359), 'DDoS': np.int64(15297), 'PortScan': np.int64(21682), 'Portmap': np.int64(46)}\n",
            "客户端 8: {'BENIGN': np.int64(11809), 'Benign': np.int64(2041), 'DDOS attack-HOIC': np.int64(11542), 'DDOS attack-LOIC-UDP': np.int64(0), 'DDoS': np.int64(8748), 'PortScan': np.int64(48051), 'Portmap': np.int64(298)}\n",
            "客户端 9: {'BENIGN': np.int64(52214), 'Benign': np.int64(77432), 'DDOS attack-HOIC': np.int64(3520), 'DDOS attack-LOIC-UDP': np.int64(1), 'DDoS': np.int64(12875), 'PortScan': np.int64(1), 'Portmap': np.int64(2647)}\n"
          ]
        }
      ]
    },
    {
      "cell_type": "markdown",
      "id": "b5e683cfaddf92f",
      "metadata": {
        "id": "b5e683cfaddf92f"
      },
      "source": [
        "## Use with PyTorch/NumPy/TensorFlow\n",
        "\n",
        "For more detailed instructions, go to:\n",
        "\n",
        "* [how-to-use-with-pytorch](https://flower.ai/docs/datasets/how-to-use-with-pytorch.html)\n",
        "\n",
        "* [how-to-use-with-numpy](https://flower.ai/docs/datasets/how-to-use-with-numpy.html)\n",
        "\n",
        "* [how-to-use-with-tensorflow](https://flower.ai/docs/datasets/how-to-use-with-tensorflow.html)"
      ]
    },
    {
      "cell_type": "markdown",
      "id": "de14f09f0ee4f6ac",
      "metadata": {
        "id": "de14f09f0ee4f6ac"
      },
      "source": [
        "### PyTorch\n",
        "\n",
        "Transform the `Dataset` into the `DataLoader`, use the `PyTorch transforms` (`Compose` and all the others are possible)."
      ]
    },
    {
      "cell_type": "code",
      "execution_count": null,
      "id": "a94321ee",
      "metadata": {
        "id": "a94321ee"
      },
      "outputs": [],
      "source": [
        "! pip install -q torch torchvision"
      ]
    },
    {
      "cell_type": "code",
      "execution_count": null,
      "id": "544c0e73054f3445",
      "metadata": {
        "id": "544c0e73054f3445"
      },
      "outputs": [],
      "source": [
        "from torch.utils.data import DataLoader\n",
        "from torchvision.transforms import ToTensor\n",
        "\n",
        "transforms = ToTensor()\n",
        "\n",
        "\n",
        "def apply_transforms(batch):\n",
        "    # For CIFAR-10 the \"img\" column contains the images we want to apply the transforms to\n",
        "    batch[\"img\"] = [transforms(img) for img in batch[\"img\"]]\n",
        "    return batch\n",
        "\n",
        "\n",
        "partition_torch = partition.with_transform(apply_transforms)\n",
        "dataloader = DataLoader(partition_torch, batch_size=64)"
      ]
    },
    {
      "cell_type": "markdown",
      "id": "b93678a5",
      "metadata": {
        "id": "b93678a5"
      },
      "source": [
        "The `Dataloader` created this way does not return a `Tuple` when iterating over it but a `Dict` with the names of the columns as keys and features as values. Look below for an example."
      ]
    },
    {
      "cell_type": "code",
      "execution_count": null,
      "id": "5edd3ce2",
      "metadata": {
        "id": "5edd3ce2",
        "outputId": "928c543f-f259-4c8f-8907-3c7d53e29e83"
      },
      "outputs": [
        {
          "name": "stdout",
          "output_type": "stream",
          "text": [
            "Return type when iterating over dataloader: <class 'dict'>\n",
            "torch.Size([64, 3, 32, 32])\n",
            "torch.Size([64])\n"
          ]
        }
      ],
      "source": [
        "for batch in dataloader:\n",
        "    print(f\"Return type when iterating over a dataloader: {type(batch)}\")\n",
        "    print(batch[\"img\"].shape)\n",
        "    print(batch[\"label\"].shape)\n",
        "    break"
      ]
    },
    {
      "cell_type": "markdown",
      "id": "71531613",
      "metadata": {
        "id": "71531613"
      },
      "source": [
        "### NumPy\n",
        "\n",
        "NumPy can be used as input to the TensorFlow and scikit-learn models. The transformation is very simple."
      ]
    },
    {
      "cell_type": "code",
      "execution_count": null,
      "id": "6b98b3e1",
      "metadata": {
        "id": "6b98b3e1"
      },
      "outputs": [],
      "source": [
        "partition_np = partition.with_format(\"numpy\")\n",
        "X_train, y_train = partition_np[\"img\"], partition_np[\"label\"]"
      ]
    },
    {
      "cell_type": "markdown",
      "id": "e4867834",
      "metadata": {
        "id": "e4867834"
      },
      "source": [
        "### TensorFlow Dataset\n",
        "\n",
        "Transformation to TensorFlow Dataset is a one-liner."
      ]
    },
    {
      "cell_type": "code",
      "execution_count": null,
      "id": "a69ce677",
      "metadata": {
        "id": "a69ce677"
      },
      "outputs": [],
      "source": [
        "! pip install -q tensorflow"
      ]
    },
    {
      "cell_type": "code",
      "execution_count": null,
      "id": "db86f1aa",
      "metadata": {
        "id": "db86f1aa"
      },
      "outputs": [],
      "source": [
        "tf_dataset = partition.to_tf_dataset(\n",
        "    columns=\"img\", label_cols=\"label\", batch_size=64, shuffle=True\n",
        ")"
      ]
    },
    {
      "cell_type": "markdown",
      "id": "61fd797c",
      "metadata": {
        "id": "61fd797c"
      },
      "source": [
        "## Final remarks\n",
        "\n",
        "Congratulations, you now know the basics of Flower Datasets and are ready to perform basic dataset preparation for Federated Learning."
      ]
    },
    {
      "cell_type": "markdown",
      "id": "cbdfe1b5",
      "metadata": {
        "id": "cbdfe1b5"
      },
      "source": [
        "## Next\n",
        "\n",
        "This is the first quickstart tutorial from the Flower Datasets series. See other tutorials:\n",
        "\n",
        "* [Use Partitioners](https://flower.ai/docs/datasets/tutorial-use-partitioners.html)\n",
        "\n",
        "* [Visualize Label Distribution](https://flower.ai/docs/datasets/tutorial-visualize-label-distribution.html)"
      ]
    }
  ],
  "metadata": {
    "kernelspec": {
      "display_name": "flwr",
      "language": "python",
      "name": "python3"
    },
    "colab": {
      "provenance": []
    }
  },
  "nbformat": 4,
  "nbformat_minor": 5
}